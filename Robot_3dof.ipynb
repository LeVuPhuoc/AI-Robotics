{
  "nbformat": 4,
  "nbformat_minor": 0,
  "metadata": {
    "colab": {
      "name": "Robot_3dof.ipynb",
      "provenance": [],
      "collapsed_sections": [],
      "authorship_tag": "ABX9TyO4+jCmFriiDOFMhFYiMQZi",
      "include_colab_link": true
    },
    "kernelspec": {
      "name": "python3",
      "display_name": "Python 3"
    },
    "language_info": {
      "name": "python"
    },
    "accelerator": "GPU"
  },
  "cells": [
    {
      "cell_type": "markdown",
      "metadata": {
        "id": "view-in-github",
        "colab_type": "text"
      },
      "source": [
        "<a href=\"https://colab.research.google.com/github/LeVuPhuoc/AI-Robotics/blob/main/Robot_3dof.ipynb\" target=\"_parent\"><img src=\"https://colab.research.google.com/assets/colab-badge.svg\" alt=\"Open In Colab\"/></a>"
      ]
    },
    {
      "cell_type": "markdown",
      "source": [
        "#  1.  Import thư viện"
      ],
      "metadata": {
        "id": "aDgsY7UFJnNP"
      }
    },
    {
      "cell_type": "code",
      "execution_count": 3,
      "metadata": {
        "id": "AkkOn44rJZS_"
      },
      "outputs": [],
      "source": [
        "import matplotlib.pyplot as plt\n",
        "import numpy as np\n",
        "import keras\n",
        "import tensorflow as tf\n",
        "import pandas as pd\n",
        "\n",
        "from keras.models import Sequential\n",
        "from keras.layers import Dense, Activation, Dropout, BatchNormalization\n",
        "from sklearn.linear_model import Perceptron\n",
        "from sklearn.model_selection import train_test_split\n",
        "from sklearn.metrics import accuracy_score\n",
        "from tensorflow.keras.optimizers import Adam"
      ]
    },
    {
      "cell_type": "markdown",
      "source": [
        "# 2. Tạo data\n"
      ],
      "metadata": {
        "id": "dor7gkByKKwW"
      }
    },
    {
      "cell_type": "code",
      "source": [
        "from re import U\n",
        "import matplotlib.pyplot as plt\n",
        "import math\n",
        "import csv\n",
        "import numpy as np\n",
        "u=[]\n",
        "z=[]\n",
        "for i in range(0,121,3):\n",
        "  for j in range(0,91,3):\n",
        "    for k in range (0,91,3):\n",
        "      x=50*math.cos(math.radians(i))+40*math.cos(math.radians(i+j))+30*math.cos(math.radians(i+j+k))\n",
        "      y=50*math.sin(math.radians(i))+40*math.sin(math.radians(i+j))+30*math.sin(math.radians(i+j+k))\n",
        "      t=i+j+k\n",
        "      z.append(np.array((i,j,k,x,y,t)))\n",
        "  u.extend(z)"
      ],
      "metadata": {
        "id": "dOyGlP9RKOYX"
      },
      "execution_count": 4,
      "outputs": []
    },
    {
      "cell_type": "code",
      "source": [
        "header = ['anpha', 'beta','delta', 'x', 'y','phi']\n",
        "with open('robot_3dof.csv', 'w', encoding='UTF8', newline='') as f:\n",
        "    writer = csv.writer(f)\n",
        "\n",
        "    # write the header\n",
        "    writer.writerow(header)\n",
        "\n",
        "    # write multiple rows\n",
        "    writer.writerows(u)"
      ],
      "metadata": {
        "id": "yfeF2ZwsK6Qq"
      },
      "execution_count": 6,
      "outputs": []
    },
    {
      "cell_type": "markdown",
      "source": [
        "# 4. Xử lý dữ liệu"
      ],
      "metadata": {
        "id": "Wmn3Hlu0MAoC"
      }
    },
    {
      "cell_type": "code",
      "source": [
        "data = pd.read_csv('robot_3dof.csv')\n",
        "data.shape\n",
        "numpy_dataset = data.values\n",
        "y=numpy_dataset[:,:3]\n",
        "x=numpy_dataset[:,3:]\n",
        "x_train,x_test,y_train,y_test = train_test_split(x,y,test_size=0.20)\n",
        "print(x_train[0])\n",
        "print(y_train[0])\n",
        "print(\"Original data is:\\n\",x_train)\n",
        "print(\"Shape of data is: \",x_train.shape)\n",
        "print(\"Original data is:\\n\",y_train)\n",
        "print(\"Shape of data is: \",y_train.shape)"
      ],
      "metadata": {
        "colab": {
          "base_uri": "https://localhost:8080/"
        },
        "id": "lvnoFW9jLmcJ",
        "outputId": "7116a135-6327-4275-8e1c-c5c519d48337"
      },
      "execution_count": 7,
      "outputs": [
        {
          "output_type": "stream",
          "name": "stdout",
          "text": [
            "[91.00908905 38.83306246 87.        ]\n",
            "[ 3.  6. 78.]\n",
            "Original data is:\n",
            " [[ 91.00908905  38.83306246  87.        ]\n",
            " [ 47.75638979  88.80716421 102.        ]\n",
            " [ 70.87241845  80.02151122  93.        ]\n",
            " ...\n",
            " [ 73.11974665  91.83411212  69.        ]\n",
            " [-13.32726188 101.09404995 156.        ]\n",
            " [-75.91517764  57.41227441 195.        ]]\n",
            "Shape of data is:  (661936, 3)\n",
            "Original data is:\n",
            " [[  3.   6.  78.]\n",
            " [ 24.  54.  24.]\n",
            " [ 24.  24.  45.]\n",
            " ...\n",
            " [ 39.  15.  15.]\n",
            " [ 81.   0.  75.]\n",
            " [102.  54.  39.]]\n",
            "Shape of data is:  (661936, 3)\n"
          ]
        }
      ]
    },
    {
      "cell_type": "markdown",
      "source": [
        "# 5. Train dữ liệu"
      ],
      "metadata": {
        "id": "ktfhHjovQeqs"
      }
    },
    {
      "cell_type": "code",
      "source": [
        "model=Sequential()\n",
        "model.add(Dense(128, activation='relu', input_shape = (3,))) \n",
        "model.add(Dense(64, activation='relu'))\n",
        "model.add(Dense(32, activation='relu'))\n",
        "model.add(Dense(16, activation='relu'))\n",
        "#model.add(Dropout(0.1))\n",
        "model.add(Dense(3,  activation='linear'))\n",
        "model.summary()\n",
        "model.compile(loss='mse', optimizer =Adam(), metrics=['acc'])\n",
        "history = model.fit(x_train, y_train, batch_size = 32, epochs = 50, validation_split = 0.2)"
      ],
      "metadata": {
        "colab": {
          "base_uri": "https://localhost:8080/"
        },
        "id": "6oLmhCXCN2Sa",
        "outputId": "1cba9afb-ad44-4e3a-8187-6a09a3f6b604"
      },
      "execution_count": 8,
      "outputs": [
        {
          "output_type": "stream",
          "name": "stdout",
          "text": [
            "Model: \"sequential\"\n",
            "_________________________________________________________________\n",
            " Layer (type)                Output Shape              Param #   \n",
            "=================================================================\n",
            " dense (Dense)               (None, 128)               512       \n",
            "                                                                 \n",
            " dense_1 (Dense)             (None, 64)                8256      \n",
            "                                                                 \n",
            " dense_2 (Dense)             (None, 32)                2080      \n",
            "                                                                 \n",
            " dense_3 (Dense)             (None, 16)                528       \n",
            "                                                                 \n",
            " dense_4 (Dense)             (None, 3)                 51        \n",
            "                                                                 \n",
            "=================================================================\n",
            "Total params: 11,427\n",
            "Trainable params: 11,427\n",
            "Non-trainable params: 0\n",
            "_________________________________________________________________\n",
            "Epoch 1/50\n",
            "16549/16549 [==============================] - 55s 3ms/step - loss: 193.6557 - acc: 0.7023 - val_loss: 24.6608 - val_acc: 0.9390\n",
            "Epoch 2/50\n",
            "16549/16549 [==============================] - 50s 3ms/step - loss: 19.5201 - acc: 0.9330 - val_loss: 11.1966 - val_acc: 0.9665\n",
            "Epoch 3/50\n",
            "16549/16549 [==============================] - 52s 3ms/step - loss: 14.9511 - acc: 0.9436 - val_loss: 6.3127 - val_acc: 0.9589\n",
            "Epoch 4/50\n",
            "16549/16549 [==============================] - 48s 3ms/step - loss: 12.7521 - acc: 0.9480 - val_loss: 5.7093 - val_acc: 0.9636\n",
            "Epoch 5/50\n",
            "16549/16549 [==============================] - 48s 3ms/step - loss: 11.1512 - acc: 0.9521 - val_loss: 25.9229 - val_acc: 0.9240\n",
            "Epoch 6/50\n",
            "16549/16549 [==============================] - 48s 3ms/step - loss: 10.5800 - acc: 0.9535 - val_loss: 12.6955 - val_acc: 0.9350\n",
            "Epoch 7/50\n",
            "16549/16549 [==============================] - 52s 3ms/step - loss: 9.2694 - acc: 0.9564 - val_loss: 26.6244 - val_acc: 0.9337\n",
            "Epoch 8/50\n",
            "16549/16549 [==============================] - 52s 3ms/step - loss: 8.6080 - acc: 0.9581 - val_loss: 3.2035 - val_acc: 0.9702\n",
            "Epoch 9/50\n",
            "16549/16549 [==============================] - 48s 3ms/step - loss: 8.4599 - acc: 0.9588 - val_loss: 9.3781 - val_acc: 0.9506\n",
            "Epoch 10/50\n",
            "16549/16549 [==============================] - 52s 3ms/step - loss: 7.6321 - acc: 0.9605 - val_loss: 6.3555 - val_acc: 0.9534\n",
            "Epoch 11/50\n",
            "16549/16549 [==============================] - 53s 3ms/step - loss: 7.3671 - acc: 0.9613 - val_loss: 20.4746 - val_acc: 0.9470\n",
            "Epoch 12/50\n",
            "16549/16549 [==============================] - 48s 3ms/step - loss: 6.8278 - acc: 0.9627 - val_loss: 6.1398 - val_acc: 0.9684\n",
            "Epoch 13/50\n",
            "16549/16549 [==============================] - 52s 3ms/step - loss: 6.1102 - acc: 0.9646 - val_loss: 8.6494 - val_acc: 0.9654\n",
            "Epoch 14/50\n",
            "16549/16549 [==============================] - 52s 3ms/step - loss: 5.8460 - acc: 0.9653 - val_loss: 3.0885 - val_acc: 0.9724\n",
            "Epoch 15/50\n",
            "16549/16549 [==============================] - 52s 3ms/step - loss: 5.0977 - acc: 0.9671 - val_loss: 2.3420 - val_acc: 0.9785\n",
            "Epoch 16/50\n",
            "16549/16549 [==============================] - 48s 3ms/step - loss: 4.5920 - acc: 0.9683 - val_loss: 3.2511 - val_acc: 0.9704\n",
            "Epoch 17/50\n",
            "16549/16549 [==============================] - 48s 3ms/step - loss: 4.3572 - acc: 0.9690 - val_loss: 4.7800 - val_acc: 0.9758\n",
            "Epoch 18/50\n",
            "16549/16549 [==============================] - 48s 3ms/step - loss: 4.1672 - acc: 0.9693 - val_loss: 2.3963 - val_acc: 0.9824\n",
            "Epoch 19/50\n",
            "16549/16549 [==============================] - 48s 3ms/step - loss: 3.9269 - acc: 0.9703 - val_loss: 1.7191 - val_acc: 0.9779\n",
            "Epoch 20/50\n",
            "16549/16549 [==============================] - 48s 3ms/step - loss: 3.7962 - acc: 0.9705 - val_loss: 3.0382 - val_acc: 0.9642\n",
            "Epoch 21/50\n",
            "16549/16549 [==============================] - 52s 3ms/step - loss: 3.5171 - acc: 0.9707 - val_loss: 9.8478 - val_acc: 0.9636\n",
            "Epoch 22/50\n",
            "16549/16549 [==============================] - 48s 3ms/step - loss: 3.3495 - acc: 0.9714 - val_loss: 3.8099 - val_acc: 0.9619\n",
            "Epoch 23/50\n",
            "16549/16549 [==============================] - 52s 3ms/step - loss: 3.3514 - acc: 0.9710 - val_loss: 4.2081 - val_acc: 0.9802\n",
            "Epoch 24/50\n",
            "16549/16549 [==============================] - 48s 3ms/step - loss: 3.2417 - acc: 0.9713 - val_loss: 2.7553 - val_acc: 0.9773\n",
            "Epoch 25/50\n",
            "16549/16549 [==============================] - 48s 3ms/step - loss: 3.2145 - acc: 0.9713 - val_loss: 2.3745 - val_acc: 0.9829\n",
            "Epoch 26/50\n",
            "16549/16549 [==============================] - 47s 3ms/step - loss: 3.1204 - acc: 0.9721 - val_loss: 1.9421 - val_acc: 0.9848\n",
            "Epoch 27/50\n",
            "16549/16549 [==============================] - 52s 3ms/step - loss: 3.0826 - acc: 0.9716 - val_loss: 11.2012 - val_acc: 0.9389\n",
            "Epoch 28/50\n",
            "16549/16549 [==============================] - 47s 3ms/step - loss: 3.0119 - acc: 0.9715 - val_loss: 2.9238 - val_acc: 0.9737\n",
            "Epoch 29/50\n",
            "16549/16549 [==============================] - 47s 3ms/step - loss: 3.0384 - acc: 0.9714 - val_loss: 1.5705 - val_acc: 0.9886\n",
            "Epoch 30/50\n",
            "16549/16549 [==============================] - 48s 3ms/step - loss: 2.9390 - acc: 0.9719 - val_loss: 3.4479 - val_acc: 0.9778\n",
            "Epoch 31/50\n",
            "16549/16549 [==============================] - 52s 3ms/step - loss: 2.9392 - acc: 0.9719 - val_loss: 4.2242 - val_acc: 0.9648\n",
            "Epoch 32/50\n",
            "16549/16549 [==============================] - 47s 3ms/step - loss: 2.8596 - acc: 0.9721 - val_loss: 2.5756 - val_acc: 0.9742\n",
            "Epoch 33/50\n",
            "16549/16549 [==============================] - 52s 3ms/step - loss: 2.8679 - acc: 0.9722 - val_loss: 3.3723 - val_acc: 0.9797\n",
            "Epoch 34/50\n",
            "16549/16549 [==============================] - 47s 3ms/step - loss: 2.8912 - acc: 0.9720 - val_loss: 2.0555 - val_acc: 0.9816\n",
            "Epoch 35/50\n",
            "16549/16549 [==============================] - 47s 3ms/step - loss: 2.8348 - acc: 0.9724 - val_loss: 1.5425 - val_acc: 0.9822\n",
            "Epoch 36/50\n",
            "16549/16549 [==============================] - 48s 3ms/step - loss: 2.8521 - acc: 0.9724 - val_loss: 1.6301 - val_acc: 0.9718\n",
            "Epoch 37/50\n",
            "16549/16549 [==============================] - 47s 3ms/step - loss: 2.8711 - acc: 0.9722 - val_loss: 4.2885 - val_acc: 0.9660\n",
            "Epoch 38/50\n",
            "16549/16549 [==============================] - 52s 3ms/step - loss: 2.7942 - acc: 0.9727 - val_loss: 2.1370 - val_acc: 0.9804\n",
            "Epoch 39/50\n",
            "16549/16549 [==============================] - 52s 3ms/step - loss: 2.7693 - acc: 0.9727 - val_loss: 2.0806 - val_acc: 0.9703\n",
            "Epoch 40/50\n",
            "16549/16549 [==============================] - 52s 3ms/step - loss: 2.8052 - acc: 0.9727 - val_loss: 2.5400 - val_acc: 0.9767\n",
            "Epoch 41/50\n",
            "16549/16549 [==============================] - 52s 3ms/step - loss: 2.7364 - acc: 0.9728 - val_loss: 6.4659 - val_acc: 0.9513\n",
            "Epoch 42/50\n",
            "16549/16549 [==============================] - 48s 3ms/step - loss: 2.7242 - acc: 0.9729 - val_loss: 1.9536 - val_acc: 0.9781\n",
            "Epoch 43/50\n",
            "16549/16549 [==============================] - 52s 3ms/step - loss: 2.7617 - acc: 0.9732 - val_loss: 3.0577 - val_acc: 0.9789\n",
            "Epoch 44/50\n",
            "16549/16549 [==============================] - 52s 3ms/step - loss: 2.7509 - acc: 0.9730 - val_loss: 1.1381 - val_acc: 0.9726\n",
            "Epoch 45/50\n",
            "16549/16549 [==============================] - 52s 3ms/step - loss: 2.7320 - acc: 0.9731 - val_loss: 1.3400 - val_acc: 0.9832\n",
            "Epoch 46/50\n",
            "16549/16549 [==============================] - 52s 3ms/step - loss: 2.6929 - acc: 0.9734 - val_loss: 3.1017 - val_acc: 0.9823\n",
            "Epoch 47/50\n",
            "16549/16549 [==============================] - 48s 3ms/step - loss: 2.6057 - acc: 0.9735 - val_loss: 0.9186 - val_acc: 0.9779\n",
            "Epoch 48/50\n",
            "16549/16549 [==============================] - 52s 3ms/step - loss: 2.7848 - acc: 0.9729 - val_loss: 3.8962 - val_acc: 0.9606\n",
            "Epoch 49/50\n",
            "16549/16549 [==============================] - 52s 3ms/step - loss: 2.6920 - acc: 0.9734 - val_loss: 9.6359 - val_acc: 0.9500\n",
            "Epoch 50/50\n",
            "16549/16549 [==============================] - 48s 3ms/step - loss: 2.6846 - acc: 0.9735 - val_loss: 2.5623 - val_acc: 0.9691\n"
          ]
        }
      ]
    },
    {
      "cell_type": "markdown",
      "source": [
        "# 5. Kiểm tra kết quả"
      ],
      "metadata": {
        "id": "8IlMNa-3Oihc"
      }
    },
    {
      "cell_type": "code",
      "source": [
        "score=model.evaluate(x_test,y_test,verbose=0)\n",
        "print('sai so kiem tra la',score[0])\n",
        "print('do chinh xac kiem tra',score[1])"
      ],
      "metadata": {
        "colab": {
          "base_uri": "https://localhost:8080/"
        },
        "id": "mJfElYalbB8h",
        "outputId": "ab1efe63-b184-4c92-a398-26755bde56e1"
      },
      "execution_count": 9,
      "outputs": [
        {
          "output_type": "stream",
          "name": "stdout",
          "text": [
            "sai so kiem tra la 2.5627567768096924\n",
            "do chinh xac kiem tra 0.9687766432762146\n"
          ]
        }
      ]
    },
    {
      "cell_type": "code",
      "source": [
        "plt.plot(history.history['acc'])\n",
        "plt.plot(history.history['val_acc'])\n",
        "plt.title('model accuracy')\n",
        "plt.ylabel('accuracy')\n",
        "plt.xlabel('epoch')\n",
        "plt.legend(['train','validation'],loc='upper_left')\n",
        "plt.show()"
      ],
      "metadata": {
        "colab": {
          "base_uri": "https://localhost:8080/",
          "height": 538
        },
        "id": "gipUq6Z_bNWY",
        "outputId": "c6f7e8be-c199-4992-f62c-e5f20320a380"
      },
      "execution_count": 10,
      "outputs": [
        {
          "output_type": "stream",
          "name": "stderr",
          "text": [
            "/usr/local/lib/python3.7/dist-packages/ipykernel_launcher.py:6: MatplotlibDeprecationWarning: Unrecognized location 'upper_left'. Falling back on 'best'; valid locations are\n",
            "\tbest\n",
            "\tupper right\n",
            "\tupper left\n",
            "\tlower left\n",
            "\tlower right\n",
            "\tright\n",
            "\tcenter left\n",
            "\tcenter right\n",
            "\tlower center\n",
            "\tupper center\n",
            "\tcenter\n",
            "This will raise an exception in 3.3.\n",
            "  \n"
          ]
        },
        {
          "output_type": "display_data",
          "data": {
            "text/plain": [
              "<Figure size 432x288 with 1 Axes>"
            ],
            "image/png": "[encoded data removed]"
          },
          "metadata": {
            "needs_background": "light"
          }
        }
      ]
    },
    {
      "cell_type": "markdown",
      "source": [
        "# 6.   kiểm tra lại"
      ],
      "metadata": {
        "id": "Y0_d1h2lOye7"
      }
    },
    {
      "cell_type": "code",
      "source": [
        "Px_test_train =   70\n",
        "Py_test_train = 80\n",
        "phi = 90\n",
        "print(Px_test_train,Py_test_train,phi)\n",
        "test = model.predict([[Px_test_train,Py_test_train,phi]])\n",
        "t1 = test[0][0]\n",
        "t2 = test[0][1]\n",
        "t3 = test[0][2]\n",
        "\n",
        "x_1=50*math.cos(math.radians(t1))+40*math.cos(math.radians(t1+t2))+30*math.cos(math.radians(t1+t2+t3))\n",
        "y_1=50*math.sin(math.radians(t1))+40*math.sin(math.radians(t1+t2))+30*math.sin(math.radians(t1+t2+t3))\n",
        "print('x = ',x_1,'y = ',y_1)\n",
        "print(t1,t2,t3)"
      ],
      "metadata": {
        "colab": {
          "base_uri": "https://localhost:8080/"
        },
        "id": "z5ff2LU6On-k",
        "outputId": "233963cd-e9c8-4503-9460-807112fd42aa"
      },
      "execution_count": 16,
      "outputs": [
        {
          "output_type": "stream",
          "name": "stdout",
          "text": [
            "70 80 90\n",
            "x =  69.5225800303444 y =  80.16100260009412\n",
            "20.161385 35.24498 34.83006\n"
          ]
        }
      ]
    },
    {
      "cell_type": "code",
      "source": [
        "model.save('Robot_3dof.h5')"
      ],
      "metadata": {
        "id": "QFV9s6rsPA-2"
      },
      "execution_count": 18,
      "outputs": []
    }
  ]
}