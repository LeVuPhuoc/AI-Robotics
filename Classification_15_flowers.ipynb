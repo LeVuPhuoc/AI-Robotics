{
  "cells": [
    {
      "cell_type": "markdown",
      "metadata": {
        "id": "view-in-github",
        "colab_type": "text"
      },
      "source": [
        "<a href=\"https://colab.research.google.com/github/LeVuPhuoc/AI-Robotics/blob/main/Classification_15_flowers.ipynb\" target=\"_parent\"><img src=\"https://colab.research.google.com/assets/colab-badge.svg\" alt=\"Open In Colab\"/></a>"
      ]
    },
    {
      "cell_type": "code",
      "execution_count": null,
      "metadata": {
        "id": "B8xEDGBAI36R"
      },
      "outputs": [],
      "source": [
        "import os\n",
        "\n",
        "import glob\n",
        "\n",
        "import cv2\n",
        "from PIL import Image\n",
        "import numpy as np\n",
        "import matplotlib.pyplot as plt\n",
        "from sklearn.model_selection import train_test_split\n",
        "\n",
        "import tensorflow as tf\n",
        "import keras\n"
      ]
    },
    {
      "cell_type": "code",
      "execution_count": null,
      "metadata": {
        "colab": {
          "base_uri": "https://localhost:8080/"
        },
        "id": "P5gznrregemi",
        "outputId": "1d542865-f522-4822-f771-bb8156f95895"
      },
      "outputs": [
        {
          "output_type": "stream",
          "name": "stdout",
          "text": [
            "Drive already mounted at /content/gdrive; to attempt to forcibly remount, call drive.mount(\"/content/gdrive\", force_remount=True).\n"
          ]
        }
      ],
      "source": [
        "from google.colab import drive\n",
        "\n",
        "drive.mount('/content/gdrive')\n",
        "os.chdir('/content/gdrive/MyDrive/Colab Notebooks/AI/')"
      ]
    },
    {
      "cell_type": "code",
      "execution_count": null,
      "metadata": {
        "id": "PnyOy9NoglIo",
        "colab": {
          "base_uri": "https://localhost:8080/"
        },
        "outputId": "c10055e6-aea2-4d79-d003-ad90433e2fa9"
      },
      "outputs": [
        {
          "output_type": "stream",
          "name": "stdout",
          "text": [
            "Classification_15_flowers.ipynb  train_flowers.zip  valid_flowers.zip\n",
            "train_flowers\t\t\t valid_flowers\n"
          ]
        }
      ],
      "source": [
        "\n",
        "# # !unzip valid_flowers.zip\n",
        "# # !unzip train_flowers.zip\n",
        "# # !rm -r black* calendula\n",
        "# !ls\n"
      ]
    },
    {
      "cell_type": "code",
      "execution_count": null,
      "metadata": {
        "id": "rtTDxGC3dQDn"
      },
      "outputs": [],
      "source": [
        "def plot_history(history_fine):\n",
        "  f1 = history_fine.history['accuracy']\n",
        "  val_f1 = history_fine.history['val_accuracy']\n",
        "\n",
        "  loss = history_fine.history['loss']\n",
        "  val_loss = history_fine.history['val_loss']\n",
        "\n",
        "  plt.figure(figsize=(8, 8))\n",
        "  plt.subplot(2, 1, 1)\n",
        "  plt.plot(f1, label='accuracy')\n",
        "  plt.plot(val_f1, label='Validation accuracy')\n",
        "  plt.legend(loc='lower right')\n",
        "  plt.title('Accuracy')\n",
        "\n",
        "  plt.subplot(2, 1, 2)\n",
        "  plt.plot(loss, label='Loss')\n",
        "  plt.plot(val_loss, label='Validation Loss')\n",
        "  plt.legend(loc='upper right')\n",
        "  plt.title('Loss')\n",
        "  plt.xlabel('epoch')\n",
        "  plt.show()"
      ]
    },
    {
      "cell_type": "code",
      "source": [
        "from tensorflow.keras.preprocessing.image import ImageDataGenerator\n",
        "\n",
        "IMAGE_SHAPE = (224, 224, 3)\n",
        "N_TRAIN_EXAMPLES = 3000\n",
        "N_VALID_EXAMPLES = 1000\n",
        "BATCHSIZE = 8\n",
        "\n",
        "\n",
        "train_datagen = ImageDataGenerator(\n",
        "    rescale=1/255,\n",
        "    validation_split=0.2,\n",
        ")\n",
        "test_datagen = ImageDataGenerator(\n",
        "    rescale=1/255,\n",
        ")\n",
        "\n",
        "training_set = train_datagen.flow_from_directory(\n",
        "    directory='train_flowers/',\n",
        "    target_size=IMAGE_SHAPE[:2], \n",
        "    batch_size=32, \n",
        "    class_mode='categorical',\n",
        "    subset='training',\n",
        ")\n",
        "validation_set = train_datagen.flow_from_directory(\n",
        "    directory='train_flowers/',\n",
        "    target_size=IMAGE_SHAPE[:2], \n",
        "    batch_size=32, \n",
        "    class_mode='categorical',\n",
        "    subset='validation',\n",
        ")\n",
        "\n",
        "test_set = test_datagen.flow_from_directory(\n",
        "    directory='valid_flowers/',\n",
        "    target_size=IMAGE_SHAPE[:2], \n",
        "    batch_size=32, \n",
        "    class_mode='categorical'\n",
        ")\n",
        "\n",
        "NUM_CLASSES = len(training_set.class_indices)"
      ],
      "metadata": {
        "id": "FgNFXdTL8o_Z"
      },
      "execution_count": null,
      "outputs": []
    },
    {
      "cell_type": "code",
      "source": [
        "from tensorflow.keras.models import Model\n",
        "from keras.layers import Conv2D, BatchNormalization, ReLU, Activation\n",
        "from keras.layers import MaxPooling2D, AveragePooling2D\n",
        "from keras.layers import Dense, Dropout\n",
        "from keras.layers import Flatten, Input\n",
        "from keras.models import Sequential\n",
        "from tensorflow.keras.optimizers import RMSprop, Adam\n",
        "\n",
        "\n",
        "model = Sequential()\n",
        "model.add(Input(shape=(IMAGE_SHAPE)))\n",
        "model.add(BatchNormalization())\n",
        "\n",
        "\n",
        "model.add(Conv2D(filters=30,kernel_size=7,strides=1,padding='same',\n",
        "                 kernel_initializer='he_uniform',))\n",
        "model.add(Activation(activation='relu'))  \n",
        "model.add(MaxPooling2D(pool_size=(2,2)))\n",
        "model.add(Dropout(rate=0.33))\n",
        "\n",
        "model.add(Conv2D(filters=140,kernel_size=3,strides=1,padding='same',\n",
        "                 kernel_initializer='he_uniform',))\n",
        "model.add(Activation(activation='linear'))  \n",
        "model.add(MaxPooling2D(pool_size=(2,2)))\n",
        "model.add(Dropout(rate= 0.35))\n",
        "\n",
        "model.add(Conv2D(filters=30,kernel_size=3,strides=2,padding='valid',\n",
        "                 kernel_initializer='he_uniform',))\n",
        "model.add(Activation(activation='relu'))  \n",
        "model.add(AveragePooling2D(pool_size=(2,2)))\n",
        "model.add(Dropout(rate= 0.42))\n",
        "model.add(Flatten())\n",
        "\n",
        "model.add(Dense(units=17,kernel_initializer='he_uniform',))\n",
        "model.add(Activation(activation='relu'))  \n",
        "\n",
        "model.add(Dropout(rate=0.27))\n",
        "model.add(Dense(15,activation=\"softmax\"))\n",
        "\n",
        "# We compile our model with a sampled learning rate.\n",
        "learning_rate = 0.001\n",
        "beta_1 = 0.92\n",
        "beta_2 = 0.92\n",
        "epsilon =  1.178e-08\n",
        "\n",
        "\n",
        "optimizer = Adam(learning_rate=learning_rate,\n",
        "    beta_1=beta_1,\n",
        "    beta_2=beta_2,\n",
        "    epsilon=epsilon,\n",
        "    amsgrad=False,\n",
        ")\n",
        "model.compile(\n",
        "    loss=\"categorical_crossentropy\",\n",
        "    optimizer=optimizer,\n",
        "    metrics=[\"accuracy\"],\n",
        ")\n",
        "\n",
        "\n",
        "\n",
        "history = model.fit(\n",
        "    training_set,\n",
        "    validation_data = validation_set,\n",
        "    shuffle=True,\n",
        "    batch_size=10,\n",
        "    epochs=EPOCHS,\n",
        "    verbose=True,\n",
        "\n",
        ")\n",
        "\n",
        "score = model.evaluate(test_set, verbose=0)\n",
        "print(\"Loss={}, Accuracy={} \".format(score[0], score[1]))\n",
        "plot_history(history)\n",
        "plt.show()\n",
        "\n"
      ],
      "metadata": {
        "id": "RlUatbrjjhJr"
      },
      "execution_count": null,
      "outputs": []
    }
  ],
  "metadata": {
    "accelerator": "GPU",
    "colab": {
      "collapsed_sections": [],
      "name": "Classification_15_flowers.ipynb",
      "provenance": [],
      "include_colab_link": true
    },
    "kernelspec": {
      "display_name": "Python 3",
      "name": "python3"
    },
    "language_info": {
      "name": "python"
    },
    "gpuClass": "standard"
  },
  "nbformat": 4,
  "nbformat_minor": 0
}