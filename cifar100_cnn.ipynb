{
  "nbformat": 4,
  "nbformat_minor": 0,
  "metadata": {
    "colab": {
      "name": "cifar100_cnn.ipynb",
      "provenance": [],
      "authorship_tag": "ABX9TyNCBxi8vteG+qResx9ZgasE",
      "include_colab_link": true
    },
    "kernelspec": {
      "name": "python3",
      "display_name": "Python 3"
    },
    "language_info": {
      "name": "python"
    },
    "accelerator": "GPU"
  },
  "cells": [
    {
      "cell_type": "markdown",
      "metadata": {
        "id": "view-in-github",
        "colab_type": "text"
      },
      "source": [
        "<a href=\"https://colab.research.google.com/github/LeVuPhuoc/AI-Robotics/blob/main/cifar100_cnn.ipynb\" target=\"_parent\"><img src=\"https://colab.research.google.com/assets/colab-badge.svg\" alt=\"Open In Colab\"/></a>"
      ]
    },
    {
      "cell_type": "markdown",
      "source": [
        "#1. import thư viện"
      ],
      "metadata": {
        "id": "K7o4wKFIdCCx"
      }
    },
    {
      "cell_type": "code",
      "execution_count": 1,
      "metadata": {
        "id": "KTxI4USs5xjl"
      },
      "outputs": [],
      "source": [
        "import matplotlib.pyplot as plt\n",
        "import numpy as np\n",
        "import keras\n",
        "import tensorflow as tf\n",
        "import pandas as pd\n",
        "import cv2\n",
        "import pickle\n",
        "\n",
        "from keras.models import Sequential\n",
        "from keras.layers import Dense, Activation, Dropout, BatchNormalization,  Dropout, Flatten, Conv2D, MaxPooling2D\n",
        "from sklearn.linear_model import Perceptron\n",
        "from keras.utils import np_utils\n",
        "from sklearn.model_selection import train_test_split\n",
        "from sklearn.metrics import accuracy_score\n",
        "from sklearn.preprocessing import StandardScaler\n",
        "from tensorflow.keras.optimizers import Adam\n",
        "from sklearn.utils import shuffle\n",
        "from keras.preprocessing.image import load_img,img_to_array\n",
        "from tensorflow.keras.optimizers import SGD\n",
        "from tensorflow.keras.utils import to_categorical\n",
        "from tensorflow.keras import datasets\n",
        "from keras.datasets import mnist, fashion_mnist, cifar10, cifar100"
      ]
    },
    {
      "cell_type": "markdown",
      "source": [
        "# 2. Lấy data "
      ],
      "metadata": {
        "id": "glb2B2nWdHuQ"
      }
    },
    {
      "cell_type": "code",
      "source": [
        "(x_train,y_train),(x_test,y_test) = datasets.cifar100.load_data() #lay du lieu\n",
        "x_train = x_train.astype('float32')\n",
        "x_test = x_test.astype('float32')\n",
        "x_train/=255.0\n",
        "x_test/=255.0\n",
        "y_train = np_utils.to_categorical(y_train,100)\n",
        "y_test = np_utils.to_categorical(y_test,100)\n",
        "y_train.shape"
      ],
      "metadata": {
        "colab": {
          "base_uri": "https://localhost:8080/"
        },
        "id": "15_xbd7j57al",
        "outputId": "9c48ef26-83ea-4146-a3e0-229124b3bc86"
      },
      "execution_count": 2,
      "outputs": [
        {
          "output_type": "stream",
          "name": "stdout",
          "text": [
            "Downloading data from https://www.cs.toronto.edu/~kriz/cifar-100-python.tar.gz\n",
            "169009152/169001437 [==============================] - 6s 0us/step\n",
            "169017344/169001437 [==============================] - 6s 0us/step\n"
          ]
        },
        {
          "output_type": "execute_result",
          "data": {
            "text/plain": [
              "(50000, 100)"
            ]
          },
          "metadata": {},
          "execution_count": 2
        }
      ]
    },
    {
      "cell_type": "markdown",
      "source": [
        "# 3. Tạo mô hình và train"
      ],
      "metadata": {
        "id": "LskW6X1JdMHo"
      }
    },
    {
      "cell_type": "code",
      "source": [
        "model = Sequential()\n",
        "model.add(Conv2D(32,(3,3), activation = 'relu', kernel_initializer = 'he_uniform', padding = 'same', input_shape = (32,32,3)))\n",
        "model.add(Conv2D(32,(3,3), activation = 'relu', kernel_initializer = 'he_uniform', padding = 'same'))\n",
        "model.add(MaxPooling2D((2,2)))\n",
        "\n",
        "model.add(Conv2D(128,(3,3), activation = 'relu', kernel_initializer = 'he_uniform', padding = 'same'))\n",
        "model.add(MaxPooling2D((2,2)))\n",
        "\n",
        "model.add(Conv2D(128,(3,3), activation = 'relu', kernel_initializer = 'he_uniform', padding = 'same'))\n",
        "model.add(MaxPooling2D((2,2)))\n",
        "model.add(Conv2D(64,(3,3), activation = 'relu', kernel_initializer = 'he_uniform', padding = 'same'))\n",
        "model.add(MaxPooling2D((2,2)))\n",
        "model.add(Conv2D(32,(3,3), activation = 'relu', kernel_initializer = 'he_uniform', padding = 'same'))\n",
        "model.add(MaxPooling2D((2,2)))\n",
        "\n",
        "\n",
        "model.add(Flatten())\n",
        "model.add(Dense(32,activation = 'relu',kernel_initializer = 'he_uniform'))\n",
        "model.add(Dense(100,activation = 'softmax'))\n",
        "model.summary()\n"
      ],
      "metadata": {
        "id": "D3-oYius6Vtm",
        "outputId": "a5ba6949-c46e-4deb-b29e-6e79f6702112",
        "colab": {
          "base_uri": "https://localhost:8080/"
        }
      },
      "execution_count": 6,
      "outputs": [
        {
          "output_type": "stream",
          "name": "stdout",
          "text": [
            "Model: \"sequential_3\"\n",
            "_________________________________________________________________\n",
            " Layer (type)                Output Shape              Param #   \n",
            "=================================================================\n",
            " conv2d_20 (Conv2D)          (None, 32, 32, 32)        896       \n",
            "                                                                 \n",
            " conv2d_21 (Conv2D)          (None, 32, 32, 32)        9248      \n",
            "                                                                 \n",
            " max_pooling2d_17 (MaxPoolin  (None, 16, 16, 32)       0         \n",
            " g2D)                                                            \n",
            "                                                                 \n",
            " conv2d_22 (Conv2D)          (None, 16, 16, 128)       36992     \n",
            "                                                                 \n",
            " max_pooling2d_18 (MaxPoolin  (None, 8, 8, 128)        0         \n",
            " g2D)                                                            \n",
            "                                                                 \n",
            " conv2d_23 (Conv2D)          (None, 8, 8, 128)         147584    \n",
            "                                                                 \n",
            " max_pooling2d_19 (MaxPoolin  (None, 4, 4, 128)        0         \n",
            " g2D)                                                            \n",
            "                                                                 \n",
            " conv2d_24 (Conv2D)          (None, 4, 4, 64)          73792     \n",
            "                                                                 \n",
            " max_pooling2d_20 (MaxPoolin  (None, 2, 2, 64)         0         \n",
            " g2D)                                                            \n",
            "                                                                 \n",
            " conv2d_25 (Conv2D)          (None, 2, 2, 32)          18464     \n",
            "                                                                 \n",
            " max_pooling2d_21 (MaxPoolin  (None, 1, 1, 32)         0         \n",
            " g2D)                                                            \n",
            "                                                                 \n",
            " flatten_1 (Flatten)         (None, 32)                0         \n",
            "                                                                 \n",
            " dense_2 (Dense)             (None, 32)                1056      \n",
            "                                                                 \n",
            " dense_3 (Dense)             (None, 100)               3300      \n",
            "                                                                 \n",
            "=================================================================\n",
            "Total params: 291,332\n",
            "Trainable params: 291,332\n",
            "Non-trainable params: 0\n",
            "_________________________________________________________________\n"
          ]
        }
      ]
    },
    {
      "cell_type": "code",
      "source": [
        "opt = SGD(lr = 0.01, momentum = 0.9)\n",
        "model.compile(optimizer=opt,loss = 'categorical_crossentropy',metrics=['accuracy'])\n",
        "history = model.fit(x_train,y_train,epochs= 50,batch_size=64,validation_data=(x_test,y_test),verbose=1) "
      ],
      "metadata": {
        "id": "fLu2570s6bkG",
        "outputId": "fd07ce6d-a195-489d-834f-68105355b423",
        "colab": {
          "base_uri": "https://localhost:8080/"
        }
      },
      "execution_count": 7,
      "outputs": [
        {
          "output_type": "stream",
          "name": "stderr",
          "text": [
            "/usr/local/lib/python3.7/dist-packages/keras/optimizer_v2/gradient_descent.py:102: UserWarning: The `lr` argument is deprecated, use `learning_rate` instead.\n",
            "  super(SGD, self).__init__(name, **kwargs)\n"
          ]
        },
        {
          "output_type": "stream",
          "name": "stdout",
          "text": [
            "Epoch 1/50\n",
            "782/782 [==============================] - 26s 20ms/step - loss: 4.3238 - accuracy: 0.0418 - val_loss: 3.9484 - val_accuracy: 0.0900\n",
            "Epoch 2/50\n",
            "782/782 [==============================] - 15s 19ms/step - loss: 3.6965 - accuracy: 0.1266 - val_loss: 3.4865 - val_accuracy: 0.1619\n",
            "Epoch 3/50\n",
            "782/782 [==============================] - 15s 19ms/step - loss: 3.3236 - accuracy: 0.1879 - val_loss: 3.1780 - val_accuracy: 0.2213\n",
            "Epoch 4/50\n",
            "782/782 [==============================] - 15s 19ms/step - loss: 3.0579 - accuracy: 0.2360 - val_loss: 2.9805 - val_accuracy: 0.2533\n",
            "Epoch 5/50\n",
            "782/782 [==============================] - 15s 20ms/step - loss: 2.8426 - accuracy: 0.2768 - val_loss: 2.8062 - val_accuracy: 0.2828\n",
            "Epoch 6/50\n",
            "782/782 [==============================] - 15s 19ms/step - loss: 2.6593 - accuracy: 0.3123 - val_loss: 2.8013 - val_accuracy: 0.2907\n",
            "Epoch 7/50\n",
            "782/782 [==============================] - 15s 19ms/step - loss: 2.5087 - accuracy: 0.3427 - val_loss: 2.7040 - val_accuracy: 0.3058\n",
            "Epoch 8/50\n",
            "782/782 [==============================] - 15s 19ms/step - loss: 2.3826 - accuracy: 0.3662 - val_loss: 2.6561 - val_accuracy: 0.3244\n",
            "Epoch 9/50\n",
            "782/782 [==============================] - 15s 19ms/step - loss: 2.2708 - accuracy: 0.3891 - val_loss: 2.7025 - val_accuracy: 0.3119\n",
            "Epoch 10/50\n",
            "782/782 [==============================] - 15s 19ms/step - loss: 2.1676 - accuracy: 0.4127 - val_loss: 2.5704 - val_accuracy: 0.3382\n",
            "Epoch 11/50\n",
            "782/782 [==============================] - 15s 19ms/step - loss: 2.0958 - accuracy: 0.4280 - val_loss: 2.6044 - val_accuracy: 0.3369\n",
            "Epoch 12/50\n",
            "782/782 [==============================] - 15s 19ms/step - loss: 2.0123 - accuracy: 0.4461 - val_loss: 2.6342 - val_accuracy: 0.3405\n",
            "Epoch 13/50\n",
            "782/782 [==============================] - 15s 19ms/step - loss: 1.9336 - accuracy: 0.4613 - val_loss: 2.5327 - val_accuracy: 0.3512\n",
            "Epoch 14/50\n",
            "782/782 [==============================] - 15s 19ms/step - loss: 1.8822 - accuracy: 0.4715 - val_loss: 2.5916 - val_accuracy: 0.3539\n",
            "Epoch 15/50\n",
            "782/782 [==============================] - 15s 19ms/step - loss: 1.8347 - accuracy: 0.4837 - val_loss: 2.5841 - val_accuracy: 0.3551\n",
            "Epoch 16/50\n",
            "782/782 [==============================] - 15s 19ms/step - loss: 1.7898 - accuracy: 0.4940 - val_loss: 2.7599 - val_accuracy: 0.3416\n",
            "Epoch 17/50\n",
            "782/782 [==============================] - 15s 19ms/step - loss: 1.7301 - accuracy: 0.5067 - val_loss: 2.7127 - val_accuracy: 0.3561\n",
            "Epoch 18/50\n",
            "782/782 [==============================] - 15s 19ms/step - loss: 1.7060 - accuracy: 0.5144 - val_loss: 2.6913 - val_accuracy: 0.3550\n",
            "Epoch 19/50\n",
            "782/782 [==============================] - 15s 19ms/step - loss: 1.6534 - accuracy: 0.5274 - val_loss: 2.6857 - val_accuracy: 0.3481\n",
            "Epoch 20/50\n",
            "782/782 [==============================] - 15s 19ms/step - loss: 1.6154 - accuracy: 0.5347 - val_loss: 2.7528 - val_accuracy: 0.3518\n",
            "Epoch 21/50\n",
            "782/782 [==============================] - 15s 19ms/step - loss: 1.5819 - accuracy: 0.5416 - val_loss: 2.8495 - val_accuracy: 0.3543\n",
            "Epoch 22/50\n",
            "782/782 [==============================] - 15s 19ms/step - loss: 1.5444 - accuracy: 0.5520 - val_loss: 2.8285 - val_accuracy: 0.3449\n",
            "Epoch 23/50\n",
            "782/782 [==============================] - 15s 20ms/step - loss: 1.5168 - accuracy: 0.5583 - val_loss: 2.9655 - val_accuracy: 0.3433\n",
            "Epoch 24/50\n",
            "782/782 [==============================] - 15s 20ms/step - loss: 1.5117 - accuracy: 0.5579 - val_loss: 2.9050 - val_accuracy: 0.3601\n",
            "Epoch 25/50\n",
            "782/782 [==============================] - 15s 20ms/step - loss: 1.4869 - accuracy: 0.5647 - val_loss: 2.9193 - val_accuracy: 0.3548\n",
            "Epoch 26/50\n",
            "782/782 [==============================] - 15s 20ms/step - loss: 1.4769 - accuracy: 0.5688 - val_loss: 3.1031 - val_accuracy: 0.3318\n",
            "Epoch 27/50\n",
            "782/782 [==============================] - 15s 20ms/step - loss: 1.4498 - accuracy: 0.5739 - val_loss: 2.9596 - val_accuracy: 0.3422\n",
            "Epoch 28/50\n",
            "782/782 [==============================] - 15s 20ms/step - loss: 1.4056 - accuracy: 0.5848 - val_loss: 2.9772 - val_accuracy: 0.3396\n",
            "Epoch 29/50\n",
            "782/782 [==============================] - 15s 19ms/step - loss: 1.3952 - accuracy: 0.5898 - val_loss: 3.2347 - val_accuracy: 0.3360\n",
            "Epoch 30/50\n",
            "782/782 [==============================] - 15s 20ms/step - loss: 1.3990 - accuracy: 0.5872 - val_loss: 3.1382 - val_accuracy: 0.3394\n",
            "Epoch 31/50\n",
            "782/782 [==============================] - 15s 20ms/step - loss: 1.3806 - accuracy: 0.5934 - val_loss: 3.0639 - val_accuracy: 0.3370\n",
            "Epoch 32/50\n",
            "782/782 [==============================] - 15s 19ms/step - loss: 1.3642 - accuracy: 0.5981 - val_loss: 3.1484 - val_accuracy: 0.3311\n",
            "Epoch 33/50\n",
            "782/782 [==============================] - 15s 20ms/step - loss: 1.3383 - accuracy: 0.6040 - val_loss: 3.2911 - val_accuracy: 0.3415\n",
            "Epoch 34/50\n",
            "782/782 [==============================] - 15s 20ms/step - loss: 1.3612 - accuracy: 0.5988 - val_loss: 3.1448 - val_accuracy: 0.3531\n",
            "Epoch 35/50\n",
            "782/782 [==============================] - 15s 20ms/step - loss: 1.3461 - accuracy: 0.6035 - val_loss: 3.3911 - val_accuracy: 0.3416\n",
            "Epoch 36/50\n",
            "782/782 [==============================] - 16s 20ms/step - loss: 1.3533 - accuracy: 0.6014 - val_loss: 3.2194 - val_accuracy: 0.3349\n",
            "Epoch 37/50\n",
            "782/782 [==============================] - 15s 20ms/step - loss: 1.3381 - accuracy: 0.6037 - val_loss: 3.2684 - val_accuracy: 0.3318\n",
            "Epoch 38/50\n",
            "782/782 [==============================] - 15s 20ms/step - loss: 1.2939 - accuracy: 0.6174 - val_loss: 3.3824 - val_accuracy: 0.3365\n",
            "Epoch 39/50\n",
            "782/782 [==============================] - 15s 20ms/step - loss: 1.2884 - accuracy: 0.6200 - val_loss: 3.2444 - val_accuracy: 0.3340\n",
            "Epoch 40/50\n",
            "782/782 [==============================] - 15s 20ms/step - loss: 1.2819 - accuracy: 0.6194 - val_loss: 3.3902 - val_accuracy: 0.3409\n",
            "Epoch 41/50\n",
            "782/782 [==============================] - 15s 20ms/step - loss: 1.2659 - accuracy: 0.6260 - val_loss: 3.4713 - val_accuracy: 0.3431\n",
            "Epoch 42/50\n",
            "782/782 [==============================] - 15s 20ms/step - loss: 1.2885 - accuracy: 0.6205 - val_loss: 3.3723 - val_accuracy: 0.3265\n",
            "Epoch 43/50\n",
            "782/782 [==============================] - 15s 20ms/step - loss: 1.2546 - accuracy: 0.6276 - val_loss: 3.4249 - val_accuracy: 0.3242\n",
            "Epoch 44/50\n",
            "782/782 [==============================] - 15s 19ms/step - loss: 1.2450 - accuracy: 0.6307 - val_loss: 3.3068 - val_accuracy: 0.3375\n",
            "Epoch 45/50\n",
            "782/782 [==============================] - 15s 20ms/step - loss: 1.2465 - accuracy: 0.6330 - val_loss: 3.4128 - val_accuracy: 0.3352\n",
            "Epoch 46/50\n",
            "782/782 [==============================] - 15s 20ms/step - loss: 1.2309 - accuracy: 0.6336 - val_loss: 3.4645 - val_accuracy: 0.3241\n",
            "Epoch 47/50\n",
            "782/782 [==============================] - 15s 19ms/step - loss: 1.2593 - accuracy: 0.6299 - val_loss: 3.4560 - val_accuracy: 0.3261\n",
            "Epoch 48/50\n",
            "782/782 [==============================] - 15s 20ms/step - loss: 1.2177 - accuracy: 0.6384 - val_loss: 3.6481 - val_accuracy: 0.3280\n",
            "Epoch 49/50\n",
            "782/782 [==============================] - 16s 20ms/step - loss: 1.2250 - accuracy: 0.6406 - val_loss: 3.4508 - val_accuracy: 0.3347\n",
            "Epoch 50/50\n",
            "782/782 [==============================] - 15s 20ms/step - loss: 1.2195 - accuracy: 0.6379 - val_loss: 3.5231 - val_accuracy: 0.3350\n"
          ]
        }
      ]
    },
    {
      "cell_type": "code",
      "source": [
        "score = model.evaluate(x_test, y_test)\n",
        "print('Test score:', score[0])\n",
        "print('Test accuracy:', score[1])"
      ],
      "metadata": {
        "id": "K_7JGgnXBqLu",
        "outputId": "9c4d8a5d-bf48-41d0-f967-a75023b95260",
        "colab": {
          "base_uri": "https://localhost:8080/"
        }
      },
      "execution_count": 8,
      "outputs": [
        {
          "output_type": "stream",
          "name": "stdout",
          "text": [
            "313/313 [==============================] - 2s 7ms/step - loss: 3.5231 - accuracy: 0.3350\n",
            "Test score: 3.52312970161438\n",
            "Test accuracy: 0.33500000834465027\n"
          ]
        }
      ]
    },
    {
      "cell_type": "markdown",
      "source": [
        "# 4. Vẽ đồ thị"
      ],
      "metadata": {
        "id": "YaDER5oIdTkP"
      }
    },
    {
      "cell_type": "code",
      "source": [
        "plt.plot(history.history['accuracy'])\n",
        "plt.plot(history.history['val_accuracy'])\n",
        "plt.title('Model accuracy - MNIST')\n",
        "plt.ylabel('Accuracy')\n",
        "plt.xlabel('Epoch')\n",
        "plt.legend(['Train','Validation'],loc='upper_left')\n",
        "plt.show()"
      ],
      "metadata": {
        "id": "jec2tpYaB8Tt",
        "outputId": "8d93d7ce-6bce-4bb8-b25c-f25f15e400b1",
        "colab": {
          "base_uri": "https://localhost:8080/",
          "height": 550
        }
      },
      "execution_count": 9,
      "outputs": [
        {
          "output_type": "stream",
          "name": "stderr",
          "text": [
            "/usr/local/lib/python3.7/dist-packages/ipykernel_launcher.py:6: MatplotlibDeprecationWarning: Unrecognized location 'upper_left'. Falling back on 'best'; valid locations are\n",
            "\tbest\n",
            "\tupper right\n",
            "\tupper left\n",
            "\tlower left\n",
            "\tlower right\n",
            "\tright\n",
            "\tcenter left\n",
            "\tcenter right\n",
            "\tlower center\n",
            "\tupper center\n",
            "\tcenter\n",
            "This will raise an exception in 3.3.\n",
            "  \n"
          ]
        },
        {
          "output_type": "display_data",
          "data": {
            "text/plain": [
              "<Figure size 432x288 with 1 Axes>"
            ],
            "image/png": "[encoded data removed]"
          },
          "metadata": {
            "needs_background": "light"
          }
        }
      ]
    }
  ]
}