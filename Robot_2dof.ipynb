{
  "nbformat": 4,
  "nbformat_minor": 0,
  "metadata": {
    "colab": {
      "name": "Robot_2dof.ipynb",
      "provenance": [],
      "collapsed_sections": [],
      "authorship_tag": "ABX9TyPPcAXkf+PaFFHVqKdwr6VG",
      "include_colab_link": true
    },
    "kernelspec": {
      "name": "python3",
      "display_name": "Python 3"
    },
    "language_info": {
      "name": "python"
    }
  },
  "cells": [
    {
      "cell_type": "markdown",
      "metadata": {
        "id": "view-in-github",
        "colab_type": "text"
      },
      "source": [
        "<a href=\"https://colab.research.google.com/github/LeVuPhuoc/AI-Robotics/blob/main/Robot_2dof.ipynb\" target=\"_parent\"><img src=\"https://colab.research.google.com/assets/colab-badge.svg\" alt=\"Open In Colab\"/></a>"
      ]
    },
    {
      "cell_type": "markdown",
      "source": [
        "# 1. Import thư viện"
      ],
      "metadata": {
        "id": "2V9ARhlzLXcW"
      }
    },
    {
      "cell_type": "code",
      "execution_count": null,
      "metadata": {
        "id": "etbU451FJweZ"
      },
      "outputs": [],
      "source": [
        "import matplotlib.pyplot as plt\n",
        "import numpy as np\n",
        "import keras\n",
        "import tensorflow as tf\n",
        "import pandas as pd\n",
        "\n",
        "from keras.models import Sequential\n",
        "from keras.layers import Dense, Activation, Dropout, BatchNormalization\n",
        "from sklearn.linear_model import Perceptron\n",
        "from sklearn.model_selection import train_test_split\n",
        "from sklearn.metrics import accuracy_score\n",
        "from tensorflow.keras.optimizers import Adam"
      ]
    },
    {
      "cell_type": "markdown",
      "source": [
        "# 2.Hàm con vẽ đồ thị"
      ],
      "metadata": {
        "id": "RTjlQ0uRLc01"
      }
    },
    {
      "cell_type": "code",
      "source": [
        "def plot_history(history_fine):\n",
        "  f1 = history_fine.history['acc']\n",
        "  val_f1 = history_fine.history['val_acc']\n",
        "\n",
        "  loss = history_fine.history['loss']\n",
        "  val_loss = history_fine.history['val_loss']\n",
        "\n",
        "  plt.figure(figsize=(8, 8))\n",
        "  plt.subplot(2, 1, 1)\n",
        "  plt.plot(f1, label='Acc')\n",
        "  plt.plot(val_f1, label='Validation Acc')\n",
        "  plt.legend(loc='lower right')\n",
        "  plt.title('Accuracy')\n",
        "\n",
        "  plt.subplot(2, 1, 2)\n",
        "  plt.plot(loss, label='Loss')\n",
        "  plt.plot(val_loss, label='Validation Loss')\n",
        "  plt.legend(loc='upper right')\n",
        "  plt.title('Loss')\n",
        "  plt.xlabel('epoch')\n",
        "  plt.show()"
      ],
      "metadata": {
        "id": "Hq8fGqysJ_CT"
      },
      "execution_count": null,
      "outputs": []
    },
    {
      "cell_type": "markdown",
      "source": [
        "# 3. Tạo data"
      ],
      "metadata": {
        "id": "ppOJMUwxLjtD"
      }
    },
    {
      "cell_type": "code",
      "source": [
        "from re import U\n",
        "import matplotlib.pyplot as plt\n",
        "import math\n",
        "import csv\n",
        "import numpy as np\n",
        "u=[]\n",
        "for i in range(0,181,2):\n",
        "  z=[]\n",
        "  for j in range(0,181,2):\n",
        "    x=50*math.cos(math.radians(i))+40*math.cos(math.radians(i+j))\n",
        "    y=50*math.sin(math.radians(i))+40*math.sin(math.radians(i+j))\n",
        "    \n",
        "    z.append(np.array((i,j,x,y)))\n",
        "  u.extend(z)\n",
        "#print(u)"
      ],
      "metadata": {
        "id": "4dQDwahcKJfM"
      },
      "execution_count": null,
      "outputs": []
    },
    {
      "cell_type": "code",
      "source": [
        "header = ['anpha', 'beta', 'x', 'y']\n",
        "#header = [ 'x', 'y']\n",
        "with open('robot_2dof.csv', 'w', encoding='UTF8', newline='') as f:\n",
        "    writer = csv.writer(f)\n",
        "\n",
        "    # write the header\n",
        "    writer.writerow(header)\n",
        "\n",
        "    # write multiple rows\n",
        "    writer.writerows(u)"
      ],
      "metadata": {
        "id": "oS---66iL7Di"
      },
      "execution_count": null,
      "outputs": []
    },
    {
      "cell_type": "markdown",
      "source": [
        "# 4. Xử lý dữ liệu\n"
      ],
      "metadata": {
        "id": "IYGDmehpM3ZS"
      }
    },
    {
      "cell_type": "code",
      "source": [
        "data = pd.read_csv('robot_2dof.csv')\n",
        "data.shape\n",
        "numpy_dataset = data.values\n",
        "y=numpy_dataset[:,:2]\n",
        "x=numpy_dataset[:,2:]\n",
        "x_train,x_test,y_train,y_test = train_test_split(x,y,test_size=0.20)\n",
        "print(x_train[0])\n",
        "print(y_train[0])\n",
        "print(\"Original data is:\",x_train)\n",
        "print(\"Shape of data is: \",x_train.shape)"
      ],
      "metadata": {
        "colab": {
          "base_uri": "https://localhost:8080/"
        },
        "id": "WK4BXpxSM8qq",
        "outputId": "f7f90fbc-9844-4e8e-d079-5f7987da0fc5"
      },
      "execution_count": null,
      "outputs": [
        {
          "output_type": "stream",
          "name": "stdout",
          "text": [
            "[17.19807265 71.91875187]\n",
            "[46. 70.]\n",
            "Original data is: [[ 1.71980727e+01  7.19187519e+01]\n",
            " [ 1.44215866e+01  5.02388024e+01]\n",
            " [-7.88010754e+00  6.15661475e+00]\n",
            " ...\n",
            " [ 6.55967481e+00  3.71543839e+01]\n",
            " [-2.65106032e+01 -2.23506885e+00]\n",
            " [-1.01210933e+01  1.27279413e-02]]\n",
            "Shape of data is:  (6624, 2)\n"
          ]
        }
      ]
    },
    {
      "cell_type": "markdown",
      "source": [
        "# 5. Train model"
      ],
      "metadata": {
        "id": "PnzTGaRZQFCJ"
      }
    },
    {
      "cell_type": "code",
      "source": [
        "model = Sequential() \n",
        "model.add(Dense(128, activation='relu', input_shape = (2,))) \n",
        "model.add(Dense(64, activation='relu'))\n",
        "model.add(Dense(32, activation='relu'))\n",
        "model.add(Dense(2))\n",
        "model.summary()\n",
        "model.compile(loss='mse', optimizer =Adam(), metrics=['acc'])\n",
        "history = model.fit(x_train, y_train, batch_size = 32, epochs = 50, validation_split = 0.2)"
      ],
      "metadata": {
        "colab": {
          "base_uri": "https://localhost:8080/"
        },
        "id": "jpGBjpotQIdj",
        "outputId": "a435df97-88d7-40cc-d839-27a1bcc45ab0"
      },
      "execution_count": null,
      "outputs": [
        {
          "output_type": "stream",
          "name": "stdout",
          "text": [
            "Model: \"sequential_1\"\n",
            "_________________________________________________________________\n",
            " Layer (type)                Output Shape              Param #   \n",
            "=================================================================\n",
            " dense_4 (Dense)             (None, 128)               384       \n",
            "                                                                 \n",
            " dense_5 (Dense)             (None, 64)                8256      \n",
            "                                                                 \n",
            " dense_6 (Dense)             (None, 32)                2080      \n",
            "                                                                 \n",
            " dense_7 (Dense)             (None, 2)                 66        \n",
            "                                                                 \n",
            "=================================================================\n",
            "Total params: 10,786\n",
            "Trainable params: 10,786\n",
            "Non-trainable params: 0\n",
            "_________________________________________________________________\n",
            "Epoch 1/50\n",
            "166/166 [==============================] - 1s 3ms/step - loss: 4560.4888 - acc: 0.6558 - val_loss: 3866.2163 - val_acc: 0.6838\n",
            "Epoch 2/50\n",
            "166/166 [==============================] - 0s 3ms/step - loss: 3801.5623 - acc: 0.6709 - val_loss: 3581.7808 - val_acc: 0.6958\n",
            "Epoch 3/50\n",
            "166/166 [==============================] - 0s 3ms/step - loss: 2939.8794 - acc: 0.7226 - val_loss: 1347.0692 - val_acc: 0.8174\n",
            "Epoch 4/50\n",
            "166/166 [==============================] - 0s 2ms/step - loss: 439.0967 - acc: 0.8805 - val_loss: 248.1136 - val_acc: 0.8868\n",
            "Epoch 5/50\n",
            "166/166 [==============================] - 0s 2ms/step - loss: 211.7021 - acc: 0.9055 - val_loss: 202.2139 - val_acc: 0.8906\n",
            "Epoch 6/50\n",
            "166/166 [==============================] - 0s 2ms/step - loss: 152.5468 - acc: 0.9168 - val_loss: 127.9803 - val_acc: 0.9042\n",
            "Epoch 7/50\n",
            "166/166 [==============================] - 0s 2ms/step - loss: 113.0230 - acc: 0.9243 - val_loss: 93.7617 - val_acc: 0.9389\n",
            "Epoch 8/50\n",
            "166/166 [==============================] - 0s 3ms/step - loss: 78.4643 - acc: 0.9406 - val_loss: 63.8485 - val_acc: 0.9336\n",
            "Epoch 9/50\n",
            "166/166 [==============================] - 0s 2ms/step - loss: 66.1497 - acc: 0.9494 - val_loss: 74.7122 - val_acc: 0.9336\n",
            "Epoch 10/50\n",
            "166/166 [==============================] - 0s 3ms/step - loss: 56.7251 - acc: 0.9515 - val_loss: 52.7935 - val_acc: 0.9585\n",
            "Epoch 11/50\n",
            "166/166 [==============================] - 0s 2ms/step - loss: 52.3587 - acc: 0.9541 - val_loss: 45.8243 - val_acc: 0.9426\n",
            "Epoch 12/50\n",
            "166/166 [==============================] - 0s 2ms/step - loss: 49.8536 - acc: 0.9566 - val_loss: 40.3383 - val_acc: 0.9525\n",
            "Epoch 13/50\n",
            "166/166 [==============================] - 0s 2ms/step - loss: 45.3702 - acc: 0.9564 - val_loss: 92.4891 - val_acc: 0.9336\n",
            "Epoch 14/50\n",
            "166/166 [==============================] - 0s 3ms/step - loss: 39.0674 - acc: 0.9604 - val_loss: 46.1836 - val_acc: 0.9457\n",
            "Epoch 15/50\n",
            "166/166 [==============================] - 0s 2ms/step - loss: 36.7642 - acc: 0.9602 - val_loss: 45.6836 - val_acc: 0.9570\n",
            "Epoch 16/50\n",
            "166/166 [==============================] - 0s 2ms/step - loss: 31.0886 - acc: 0.9655 - val_loss: 32.2619 - val_acc: 0.9570\n",
            "Epoch 17/50\n",
            "166/166 [==============================] - 0s 3ms/step - loss: 34.0407 - acc: 0.9607 - val_loss: 30.1527 - val_acc: 0.9615\n",
            "Epoch 18/50\n",
            "166/166 [==============================] - 0s 2ms/step - loss: 25.6386 - acc: 0.9702 - val_loss: 33.1328 - val_acc: 0.9630\n",
            "Epoch 19/50\n",
            "166/166 [==============================] - 0s 2ms/step - loss: 26.1655 - acc: 0.9685 - val_loss: 28.5721 - val_acc: 0.9577\n",
            "Epoch 20/50\n",
            "166/166 [==============================] - 0s 2ms/step - loss: 27.1539 - acc: 0.9666 - val_loss: 21.9552 - val_acc: 0.9653\n",
            "Epoch 21/50\n",
            "166/166 [==============================] - 0s 3ms/step - loss: 24.3915 - acc: 0.9657 - val_loss: 21.5203 - val_acc: 0.9668\n",
            "Epoch 22/50\n",
            "166/166 [==============================] - 1s 3ms/step - loss: 26.2737 - acc: 0.9677 - val_loss: 19.7297 - val_acc: 0.9668\n",
            "Epoch 23/50\n",
            "166/166 [==============================] - 0s 2ms/step - loss: 23.5460 - acc: 0.9655 - val_loss: 16.3441 - val_acc: 0.9630\n",
            "Epoch 24/50\n",
            "166/166 [==============================] - 0s 2ms/step - loss: 18.7096 - acc: 0.9713 - val_loss: 20.0266 - val_acc: 0.9653\n",
            "Epoch 25/50\n",
            "166/166 [==============================] - 0s 3ms/step - loss: 27.1804 - acc: 0.9694 - val_loss: 22.1348 - val_acc: 0.9623\n",
            "Epoch 26/50\n",
            "166/166 [==============================] - 0s 2ms/step - loss: 17.5754 - acc: 0.9698 - val_loss: 15.5210 - val_acc: 0.9774\n",
            "Epoch 27/50\n",
            "166/166 [==============================] - 0s 3ms/step - loss: 18.5729 - acc: 0.9717 - val_loss: 23.2246 - val_acc: 0.9653\n",
            "Epoch 28/50\n",
            "166/166 [==============================] - 0s 2ms/step - loss: 20.8149 - acc: 0.9702 - val_loss: 19.4827 - val_acc: 0.9675\n",
            "Epoch 29/50\n",
            "166/166 [==============================] - 0s 3ms/step - loss: 28.6669 - acc: 0.9662 - val_loss: 27.4437 - val_acc: 0.9713\n",
            "Epoch 30/50\n",
            "166/166 [==============================] - 0s 3ms/step - loss: 20.7041 - acc: 0.9723 - val_loss: 16.6449 - val_acc: 0.9781\n",
            "Epoch 31/50\n",
            "166/166 [==============================] - 0s 2ms/step - loss: 17.2255 - acc: 0.9730 - val_loss: 12.6831 - val_acc: 0.9743\n",
            "Epoch 32/50\n",
            "166/166 [==============================] - 0s 3ms/step - loss: 24.4762 - acc: 0.9677 - val_loss: 40.8808 - val_acc: 0.9698\n",
            "Epoch 33/50\n",
            "166/166 [==============================] - 0s 2ms/step - loss: 17.0223 - acc: 0.9732 - val_loss: 10.9539 - val_acc: 0.9774\n",
            "Epoch 34/50\n",
            "166/166 [==============================] - 0s 3ms/step - loss: 18.5211 - acc: 0.9717 - val_loss: 47.2237 - val_acc: 0.9668\n",
            "Epoch 35/50\n",
            "166/166 [==============================] - 0s 3ms/step - loss: 13.3870 - acc: 0.9772 - val_loss: 10.9409 - val_acc: 0.9796\n",
            "Epoch 36/50\n",
            "166/166 [==============================] - 0s 2ms/step - loss: 20.1820 - acc: 0.9706 - val_loss: 12.6294 - val_acc: 0.9736\n",
            "Epoch 37/50\n",
            "166/166 [==============================] - 0s 2ms/step - loss: 15.0235 - acc: 0.9749 - val_loss: 23.9777 - val_acc: 0.9638\n",
            "Epoch 38/50\n",
            "166/166 [==============================] - 0s 2ms/step - loss: 20.1178 - acc: 0.9736 - val_loss: 13.5225 - val_acc: 0.9706\n",
            "Epoch 39/50\n",
            "166/166 [==============================] - 0s 3ms/step - loss: 15.1509 - acc: 0.9738 - val_loss: 9.3650 - val_acc: 0.9781\n",
            "Epoch 40/50\n",
            "166/166 [==============================] - 0s 2ms/step - loss: 14.9018 - acc: 0.9755 - val_loss: 31.5123 - val_acc: 0.9683\n",
            "Epoch 41/50\n",
            "166/166 [==============================] - 0s 3ms/step - loss: 12.6435 - acc: 0.9775 - val_loss: 12.5039 - val_acc: 0.9751\n",
            "Epoch 42/50\n",
            "166/166 [==============================] - 0s 2ms/step - loss: 10.7677 - acc: 0.9791 - val_loss: 13.6727 - val_acc: 0.9630\n",
            "Epoch 43/50\n",
            "166/166 [==============================] - 0s 2ms/step - loss: 15.1173 - acc: 0.9717 - val_loss: 30.1962 - val_acc: 0.9630\n",
            "Epoch 44/50\n",
            "166/166 [==============================] - 0s 3ms/step - loss: 12.3327 - acc: 0.9764 - val_loss: 15.6376 - val_acc: 0.9615\n",
            "Epoch 45/50\n",
            "166/166 [==============================] - 0s 2ms/step - loss: 19.2925 - acc: 0.9717 - val_loss: 18.6476 - val_acc: 0.9615\n",
            "Epoch 46/50\n",
            "166/166 [==============================] - 0s 3ms/step - loss: 15.3041 - acc: 0.9751 - val_loss: 10.0610 - val_acc: 0.9774\n",
            "Epoch 47/50\n",
            "166/166 [==============================] - 0s 2ms/step - loss: 16.2702 - acc: 0.9728 - val_loss: 16.3761 - val_acc: 0.9774\n",
            "Epoch 48/50\n",
            "166/166 [==============================] - 0s 3ms/step - loss: 22.8826 - acc: 0.9730 - val_loss: 15.7016 - val_acc: 0.9743\n",
            "Epoch 49/50\n",
            "166/166 [==============================] - 0s 3ms/step - loss: 13.6134 - acc: 0.9774 - val_loss: 12.0667 - val_acc: 0.9728\n",
            "Epoch 50/50\n",
            "166/166 [==============================] - 0s 3ms/step - loss: 10.8193 - acc: 0.9774 - val_loss: 7.0293 - val_acc: 0.9811\n"
          ]
        }
      ]
    },
    {
      "cell_type": "markdown",
      "source": [
        "# 6. Kiểm tra kết quả"
      ],
      "metadata": {
        "id": "5zQig7WXQNdl"
      }
    },
    {
      "cell_type": "code",
      "source": [
        "score=model.evaluate(x_test,y_test,verbose=0)\n",
        "print('sai so kiem tra la',score[0])\n",
        "print('do chinh xac kiem tra',score[1])"
      ],
      "metadata": {
        "colab": {
          "base_uri": "https://localhost:8080/"
        },
        "id": "mGoOtJIpQNIQ",
        "outputId": "7a28b035-4b96-48c5-f276-e399b3e33ecd"
      },
      "execution_count": null,
      "outputs": [
        {
          "output_type": "stream",
          "name": "stdout",
          "text": [
            "sai so kiem tra la 7.012068271636963\n",
            "do chinh xac kiem tra 0.9837055206298828\n"
          ]
        }
      ]
    },
    {
      "cell_type": "code",
      "source": [
        "score = model.evaluate(x_test,y_test,verbose = 0)\n",
        "y_pred = model.predict(x_test)\n",
        "print(y_pred)\n",
        "pd.DataFrame(history.history)\n",
        "plt.plot(figsize=(8,5))\n",
        "plt.grid(True)\n",
        "plt.gca().set_ylim(0,1)\n",
        "plt.show()\n",
        "plt.plot(history.history['acc'])\n",
        "plt.plot(history.history['val_acc'])\n",
        "plt.title('model accuracy')\n",
        "plt.ylabel('accuracy')\n",
        "plt.xlabel('epoch')\n",
        "plt.legend(['train','validation'],loc='upper_left')\n",
        "plt.show()"
      ],
      "metadata": {
        "colab": {
          "base_uri": "https://localhost:8080/",
          "height": 950
        },
        "id": "_GVlYWgjQqzk",
        "outputId": "ff73887b-f6ef-4be9-ef14-00cf341cc5d5"
      },
      "execution_count": null,
      "outputs": [
        {
          "output_type": "stream",
          "name": "stdout",
          "text": [
            "[[149.26814  144.66324 ]\n",
            " [ 59.868366  34.74511 ]\n",
            " [ 33.749424  17.135454]\n",
            " ...\n",
            " [ 88.06964   76.503075]\n",
            " [121.76599  136.41373 ]\n",
            " [140.6805   177.27432 ]]\n"
          ]
        },
        {
          "output_type": "display_data",
          "data": {
            "text/plain": [
              "<Figure size 432x288 with 1 Axes>"
            ],
            "image/png": "[encoded data removed]"
          },
          "metadata": {
            "needs_background": "light"
          }
        },
        {
          "output_type": "stream",
          "name": "stderr",
          "text": [
            "/usr/local/lib/python3.7/dist-packages/ipykernel_launcher.py:14: MatplotlibDeprecationWarning: Unrecognized location 'upper_left'. Falling back on 'best'; valid locations are\n",
            "\tbest\n",
            "\tupper right\n",
            "\tupper left\n",
            "\tlower left\n",
            "\tlower right\n",
            "\tright\n",
            "\tcenter left\n",
            "\tcenter right\n",
            "\tlower center\n",
            "\tupper center\n",
            "\tcenter\n",
            "This will raise an exception in 3.3.\n",
            "  \n"
          ]
        },
        {
          "output_type": "display_data",
          "data": {
            "text/plain": [
              "<Figure size 432x288 with 1 Axes>"
            ],
            "image/png": "[encoded data removed]"
          },
          "metadata": {
            "needs_background": "light"
          }
        }
      ]
    },
    {
      "cell_type": "markdown",
      "source": [
        "#7. Kiểm tra lại"
      ],
      "metadata": {
        "id": "o_4JoT1nQ1Iz"
      }
    },
    {
      "cell_type": "code",
      "source": [
        "Px_test_train = 0\n",
        "Py_test_train = 60\n",
        "print(Px_test_train,Py_test_train)\n",
        "test = model.predict([[Px_test_train,Py_test_train]])\n",
        "t1 = test[0][0]\n",
        "t2 = test[0][1]\n",
        "x_1=50*math.cos(math.radians(t1))+40*math.cos(math.radians(t1+t2))\n",
        "y_1=50*math.sin(math.radians(t1))+40*math.sin(math.radians(t1+t2))\n",
        "print('x = ',x_1,'\\ny = ',y_1)\n",
        "print(t1,t2)"
      ],
      "metadata": {
        "colab": {
          "base_uri": "https://localhost:8080/"
        },
        "id": "jBbv4p_-Q3z4",
        "outputId": "a5273103-fa1b-4a25-d070-7d1e552b8498"
      },
      "execution_count": null,
      "outputs": [
        {
          "output_type": "stream",
          "name": "stdout",
          "text": [
            "0 60\n",
            "x =  -0.015227184230731439 \n",
            "y =  60.538487399120385\n",
            "48.956898 96.244576\n"
          ]
        }
      ]
    },
    {
      "cell_type": "code",
      "source": [
        "model.save('Robot_2dof.h5')"
      ],
      "metadata": {
        "id": "xwsBstqmSG78"
      },
      "execution_count": null,
      "outputs": []
    }
  ]
}